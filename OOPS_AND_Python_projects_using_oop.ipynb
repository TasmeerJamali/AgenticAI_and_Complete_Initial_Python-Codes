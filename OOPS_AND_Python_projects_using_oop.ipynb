{
  "nbformat": 4,
  "nbformat_minor": 0,
  "metadata": {
    "colab": {
      "provenance": [],
      "authorship_tag": "ABX9TyPxLjrpbaKxuaFeWd5L2Shn",
      "include_colab_link": true
    },
    "kernelspec": {
      "name": "python3",
      "display_name": "Python 3"
    },
    "language_info": {
      "name": "python"
    }
  },
  "cells": [
    {
      "cell_type": "markdown",
      "metadata": {
        "id": "view-in-github",
        "colab_type": "text"
      },
      "source": [
        "<a href=\"https://colab.research.google.com/github/TasmeerJamali/Python-Practice-All/blob/main/OOPS_AND_Python_projects_using_oop.ipynb\" target=\"_parent\"><img src=\"https://colab.research.google.com/assets/colab-badge.svg\" alt=\"Open In Colab\"/></a>"
      ]
    },
    {
      "cell_type": "markdown",
      "source": [
        "#Encapsulation\n",
        "Toy Example Basic"
      ],
      "metadata": {
        "id": "J-7qVwYGbt4f"
      }
    },
    {
      "cell_type": "code",
      "execution_count": null,
      "metadata": {
        "id": "RslwxTHuEwgn",
        "colab": {
          "base_uri": "https://localhost:8080/"
        },
        "outputId": "8eb89920-c6f1-4e27-f2c9-1fdb06cf8eee"
      },
      "outputs": [
        {
          "output_type": "stream",
          "name": "stdout",
          "text": [
            "Teddy Bear says Growl\n"
          ]
        }
      ],
      "source": [
        "class Toy:\n",
        "    def __init__(self, name, sound):\n",
        "        self.name = name\n",
        "        # __ make the thing private\n",
        "        self.__sound = sound\n",
        "\n",
        "    def make_sound(self):\n",
        "        print(f\"{self.name} says {self.__sound}\")\n",
        "\n",
        "my_toy = Toy(\"Teddy Bear\", \"Growl\")\n",
        "my_toy.make_sound()\n",
        "\n",
        "\n",
        "\n",
        "\n"
      ]
    },
    {
      "cell_type": "code",
      "source": [
        "class Bankaccount:\n",
        "      def __init__ (self,accountholder:str,balance:int):\n",
        "        self.accountholder=accountholder\n",
        "        self.__balance = balance\n",
        "\n",
        "\n",
        "      def deposit(self, amount:int):\n",
        "         self.__balance += amount\n",
        "         print(f\"Deposited {amount}. New balance: {self.__balance}\")\n",
        "\n",
        "      def withdraw(self,amount:int):\n",
        "        input:int(\"Enter the withdrawal amount\",withdraw)\n",
        "        self.__balance -= amount\n",
        "\n",
        "\n",
        "      def getballance(self):\n",
        "        print (self.__balance)\n",
        "        print(\"The current ballance is\",self.__balance)\n",
        "\n",
        "account1 = Bankaccount(\"Jack\",1000)\n",
        "account1.deposit(500)\n",
        "account1.withdraw(200)\n",
        "account1.getballance\n",
        "\n",
        "\n"
      ],
      "metadata": {
        "colab": {
          "base_uri": "https://localhost:8080/"
        },
        "id": "1hEYopZDb8pD",
        "outputId": "159ce5a9-5ae5-4611-9d04-456352a1658a"
      },
      "execution_count": null,
      "outputs": [
        {
          "output_type": "stream",
          "name": "stdout",
          "text": [
            "Deposited 500. New balance: 1500\n",
            "Account balance: 1500\n"
          ]
        }
      ]
    },
    {
      "cell_type": "markdown",
      "source": [
        "#Inheritance"
      ],
      "metadata": {
        "id": "-JefijahrcER"
      }
    },
    {
      "cell_type": "code",
      "source": [
        "class vehicle:\n",
        "  def __init__(self,brand:str):\n",
        "   self.brand = brand\n",
        "\n",
        "  def honk(self):\n",
        "    print(\"beep beep\")\n",
        "\n",
        "class Electric_car(vehicle):    #now we are inherting the class vehicle inside the class electric car\n",
        "  def __init__(self, brand, color:str):\n",
        "    super().__init__ (brand)\n",
        "    self.color=color\n",
        "    print(self.brand)\n",
        "    print(self.color)\n",
        "\n",
        "my_car=Electric_car(\"lambo\",\"green\")\n",
        "my_car.brand"
      ],
      "metadata": {
        "colab": {
          "base_uri": "https://localhost:8080/",
          "height": 70
        },
        "id": "E8r21Ue_re53",
        "outputId": "e6fe4182-df39-4950-e97c-9604e2a03cc5"
      },
      "execution_count": null,
      "outputs": [
        {
          "output_type": "stream",
          "name": "stdout",
          "text": [
            "lambo\n",
            "green\n"
          ]
        },
        {
          "output_type": "execute_result",
          "data": {
            "text/plain": [
              "'lambo'"
            ],
            "application/vnd.google.colaboratory.intrinsic+json": {
              "type": "string"
            }
          },
          "metadata": {},
          "execution_count": 13
        }
      ]
    },
    {
      "cell_type": "code",
      "source": [
        "class Person:\n",
        "  def init(self, name: str, age: int):\n",
        "   self.name = name\n",
        "   self.age = age\n",
        "\n",
        "  def Phone(self, number: int):\n",
        "      print(\"My number is\", number)\n",
        "\n",
        "  def introduce(self):\n",
        "      print(\"Hello, my name is\", self.name, \"and I am\", self.age, \"years old\")\n",
        "\n",
        "  class Student(Person):\n",
        "    def init(self, name: str, age: int, student_id: int, number: int):\n",
        "       super().init(name, age)\n",
        "       super().Phone(number)\n",
        "\n",
        "tasmeer = Student(\"tasmeer jamali\",21,233423)\n",
        "tasmeer.introduce()"
      ],
      "metadata": {
        "colab": {
          "base_uri": "https://localhost:8080/"
        },
        "id": "KLBajpRj3cVz",
        "outputId": "3c6f6129-f69d-4dd4-b65d-79226431b17d"
      },
      "execution_count": null,
      "outputs": [
        {
          "output_type": "stream",
          "name": "stdout",
          "text": [
            "My number is 233423\n",
            "Hello, my name is tasmeer jamali and I am 21 years old\n"
          ]
        }
      ]
    },
    {
      "cell_type": "markdown",
      "source": [
        "#Polymorphism"
      ],
      "metadata": {
        "id": "-2LcnH2gBOHV"
      }
    },
    {
      "cell_type": "code",
      "source": [
        "#Method overriding\n",
        "class dog:\n",
        "  def sound():\n",
        "   print(\"woof woof\")\n",
        "\n",
        "class cat:\n",
        "  def sound():\n",
        "   print(\"meow meow\")\n",
        "\n",
        "dog.sound()\n",
        "cat.sound()\n",
        "\n",
        "\n",
        "#meothod overloading\n",
        "class Calculator:\n",
        "    def add(self, a, b, c=0):  # Same method name, different parameters\n",
        "        return a + b + c\n",
        "\n",
        "calc = Calculator()\n",
        "print(calc.add(2, 3))        # Output: 5 (2 parameters)\n",
        "print(calc.add(2, 3, 4))     # Output: 9 (3 parameters)\n"
      ],
      "metadata": {
        "colab": {
          "base_uri": "https://localhost:8080/"
        },
        "id": "BedbwBs1J9T-",
        "outputId": "256daf4e-daf0-462c-f4d7-3b688c30387f"
      },
      "execution_count": null,
      "outputs": [
        {
          "output_type": "stream",
          "name": "stdout",
          "text": [
            "woof woof\n",
            "meow meow\n",
            "5\n",
            "9\n"
          ]
        }
      ]
    },
    {
      "cell_type": "code",
      "source": [
        "#Overloading another example\n",
        "class shape:\n",
        "  def area(self): #to make default method\n",
        "    pass\n",
        "\n",
        "class circle(shape):\n",
        "  def __init__(self,width,height):\n",
        "    self.width=width\n",
        "    self.height=height\n",
        "\n",
        "  def area(self):\n",
        "    return 3.14*self.width*self.height\n",
        "class rectangle(shape):\n",
        "  def __init__(self,width,height):\n",
        "    self.width=width\n",
        "    self.height=height\n",
        "\n",
        "  def area(self):\n",
        "    return self.width*self.height"
      ],
      "metadata": {
        "id": "pYnLolIslLYy"
      },
      "execution_count": null,
      "outputs": []
    },
    {
      "cell_type": "markdown",
      "source": [
        "#Abstraction\n"
      ],
      "metadata": {
        "id": "GjAd_R92sa4P"
      }
    },
    {
      "cell_type": "code",
      "source": [
        "#means hiding of complicated stuff\n",
        "from abc import ABC, abstractmethod\n",
        "\n",
        "class Animal(ABC):\n",
        "    @abstractmethod\n",
        "    def make_sound(self):\n",
        "        pass\n",
        "\n",
        "class Dog(Animal):\n",
        "    def make_sound(self):\n",
        "        print(\"Woof!\")\n",
        "\n",
        "class Cat(Animal):\n",
        "    def make_sound(self):\n",
        "        print(\"Meow!\")\n",
        "cat=Cat()\n",
        "cat.make_sound()"
      ],
      "metadata": {
        "colab": {
          "base_uri": "https://localhost:8080/"
        },
        "id": "tkakv5ymsdG6",
        "outputId": "ba7b1a99-abf0-413e-a3f1-0bebd01ecf18"
      },
      "execution_count": null,
      "outputs": [
        {
          "output_type": "stream",
          "name": "stdout",
          "text": [
            "Meow!\n"
          ]
        }
      ]
    }
  ]
}