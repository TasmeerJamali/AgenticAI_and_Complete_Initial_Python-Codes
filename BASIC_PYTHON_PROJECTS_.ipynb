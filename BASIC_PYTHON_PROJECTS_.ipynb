{
  "cells": [
    {
      "cell_type": "markdown",
      "metadata": {
        "id": "view-in-github",
        "colab_type": "text"
      },
      "source": [
        "<a href=\"https://colab.research.google.com/github/TasmeerJamali/Python-Practice-All/blob/main/BASIC_PYTHON_PROJECTS_.ipynb\" target=\"_parent\"><img src=\"https://colab.research.google.com/assets/colab-badge.svg\" alt=\"Open In Colab\"/></a>"
      ]
    },
    {
      "cell_type": "markdown",
      "metadata": {
        "id": "CKaSuxR_FjmC"
      },
      "source": [
        "#PYTHON PROJECT 1\n",
        "joke bot"
      ]
    },
    {
      "cell_type": "code",
      "execution_count": null,
      "metadata": {
        "colab": {
          "base_uri": "https://localhost:8080/"
        },
        "id": "cemStm1VSs9V",
        "outputId": "6025723f-bde8-49fe-9006-f625907a7dec"
      },
      "outputs": [
        {
          "name": "stdout",
          "output_type": "stream",
          "text": [
            "what do you want?joke\n",
            "joke\n",
            "knock knock who is there, its me, ai agent\n"
          ]
        }
      ],
      "source": [
        "Prompt:str=\"what do you want?\"\n",
        "joke:str=\"knock knock who is there, its me, ai agent\"\n",
        "\n",
        "user_input=input(Prompt)\n",
        "print(user_input)\n",
        "if user_input==\"joke\":\n",
        "  print(joke)\n",
        "else:\n",
        "  print(\"you are lame \")\n"
      ]
    },
    {
      "cell_type": "markdown",
      "metadata": {
        "id": "ZMXE4O6VFsYu"
      },
      "source": [
        "#python project 2\n",
        "number double"
      ]
    },
    {
      "cell_type": "code",
      "execution_count": null,
      "metadata": {
        "colab": {
          "base_uri": "https://localhost:8080/",
          "height": 228
        },
        "id": "wd7aF9uVbZZ_",
        "outputId": "ff97558a-95f9-4ec6-a027-9bf13bf3813c",
        "collapsed": true
      },
      "outputs": [
        {
          "name": "stdout",
          "output_type": "stream",
          "text": [
            "enter your number1\n"
          ]
        },
        {
          "output_type": "error",
          "ename": "TypeError",
          "evalue": "'>=' not supported between instances of 'str' and 'int'",
          "traceback": [
            "\u001b[0;31m---------------------------------------------------------------------------\u001b[0m",
            "\u001b[0;31mTypeError\u001b[0m                                 Traceback (most recent call last)",
            "\u001b[0;32m<ipython-input-7-845de68919ba>\u001b[0m in \u001b[0;36m<cell line: 16>\u001b[0;34m()\u001b[0m\n\u001b[1;32m     14\u001b[0m \u001b[0;31m#  sir code\u001b[0m\u001b[0;34m\u001b[0m\u001b[0;34m\u001b[0m\u001b[0m\n\u001b[1;32m     15\u001b[0m \u001b[0muser_input\u001b[0m\u001b[0;34m=\u001b[0m\u001b[0minput\u001b[0m\u001b[0;34m(\u001b[0m\u001b[0;34m\"enter your number\"\u001b[0m\u001b[0;34m)\u001b[0m\u001b[0;34m\u001b[0m\u001b[0;34m\u001b[0m\u001b[0m\n\u001b[0;32m---> 16\u001b[0;31m \u001b[0;32mwhile\u001b[0m \u001b[0muser_input\u001b[0m\u001b[0;34m>=\u001b[0m\u001b[0;36m100\u001b[0m\u001b[0;34m:\u001b[0m\u001b[0;34m\u001b[0m\u001b[0;34m\u001b[0m\u001b[0m\n\u001b[0m\u001b[1;32m     17\u001b[0m   \u001b[0mprint\u001b[0m\u001b[0;34m(\u001b[0m\u001b[0muser_input\u001b[0m\u001b[0;34m)\u001b[0m\u001b[0;34m\u001b[0m\u001b[0;34m\u001b[0m\u001b[0m\n\u001b[1;32m     18\u001b[0m   \u001b[0muser_input\u001b[0m \u001b[0;34m=\u001b[0m \u001b[0;36m2\u001b[0m\u001b[0;34m*\u001b[0m\u001b[0muser_input\u001b[0m\u001b[0;34m\u001b[0m\u001b[0;34m\u001b[0m\u001b[0m\n",
            "\u001b[0;31mTypeError\u001b[0m: '>=' not supported between instances of 'str' and 'int'"
          ]
        }
      ],
      "source": [
        "# My code\n",
        "\n",
        "# input_user:int =input(\"enter your number\")\n",
        "# print(\"the number you choose is \"+str(input_user))\n",
        "# for i in range(1,99):\n",
        "#   answer=(i*2)\n",
        "#   print(answer*answer)\n",
        "# if answer>100:\n",
        "#   print(\"the number is too big\")\n",
        "# else:\n",
        "#   print(answer)\n",
        "\n",
        "\n",
        "#  sir code\n",
        "user_input=input(\"enter your number\")\n",
        "while user_input>=100:\n",
        "  print(user_input)\n",
        "  user_input = 2*user_input"
      ]
    },
    {
      "cell_type": "markdown",
      "source": [
        "#python project 3\n",
        "Takeoff counter"
      ],
      "metadata": {
        "id": "hhe2IYrCObOQ"
      }
    },
    {
      "cell_type": "code",
      "source": [
        "# for i in range(10,0,-1):\n",
        "#   #10 is the ending point, 0 is starting point, -1 is the way it is decrementing\n",
        "#   print(i,end =' ')\n",
        "#   print(\"lift off\")\n",
        "\n",
        "  # seocnd solution by using list\n",
        "def countdown():\n",
        "  number_list:list[int]=[10,9,8,7,6,5,4,3,2,1]\n",
        "  for i in number_list:\n",
        "    print(i)\n",
        "countdown()\n",
        "print(\"liftoff\")"
      ],
      "metadata": {
        "colab": {
          "base_uri": "https://localhost:8080/"
        },
        "collapsed": true,
        "id": "WO3EjsheOfSv",
        "outputId": "a19cce09-e17c-43c9-ee70-21b8d20107c9"
      },
      "execution_count": null,
      "outputs": [
        {
          "output_type": "stream",
          "name": "stdout",
          "text": [
            "10\n",
            "9\n",
            "8\n",
            "7\n",
            "6\n",
            "5\n",
            "4\n",
            "3\n",
            "2\n",
            "1\n",
            "liftoff\n"
          ]
        }
      ]
    },
    {
      "cell_type": "markdown",
      "source": [
        "#Project 4\n",
        "Number guessing game"
      ],
      "metadata": {
        "id": "WyXRXjce7fQq"
      }
    },
    {
      "cell_type": "code",
      "source": [
        "import random\n",
        "\n",
        "number = random.randint(1,100)\n",
        "print(number)\n",
        "\n",
        "while True:\n",
        "    user_input = int(input(\"Enter your number: \"))\n",
        "\n",
        "    if user_input < number:\n",
        "        print(\"You are too low\")\n",
        "    elif user_input > number:\n",
        "        print(\"You are too high\")\n",
        "    else:\n",
        "        print(\"You are correct\")\n",
        "        break"
      ],
      "metadata": {
        "colab": {
          "base_uri": "https://localhost:8080/"
        },
        "id": "APe46jVT7mMg",
        "outputId": "f59df3a6-d326-4445-9fce-edae705a3190"
      },
      "execution_count": null,
      "outputs": [
        {
          "output_type": "stream",
          "name": "stdout",
          "text": [
            "13\n",
            "Enter your number: 2\n",
            "You are too low\n",
            "Enter your number: 3\n",
            "You are too low\n",
            "Enter your number: 15\n",
            "You are too high\n",
            "Enter your number: 13\n",
            "You are correct\n"
          ]
        }
      ]
    },
    {
      "cell_type": "markdown",
      "source": [
        "#python project 5\n"
      ],
      "metadata": {
        "id": "fG2ZDDRN4d6w"
      }
    },
    {
      "cell_type": "markdown",
      "source": [
        "random number generator upto 10 output\n"
      ],
      "metadata": {
        "id": "SddiSehnMFJ0"
      }
    },
    {
      "cell_type": "code",
      "source": [
        "import random\n",
        "MIN_NUMBER:int=1\n",
        "MAX_NUMBER:int=100\n",
        "number:int=10\n",
        "for i in range(number):\n",
        "  print(random.randint(MIN_NUMBER,MAX_NUMBER))\n"
      ],
      "metadata": {
        "id": "gbo_TT1c4iuO",
        "colab": {
          "base_uri": "https://localhost:8080/"
        },
        "outputId": "94f079a7-f49a-47ab-9c4c-1b49c6b673cb"
      },
      "execution_count": null,
      "outputs": [
        {
          "output_type": "stream",
          "name": "stdout",
          "text": [
            "64\n",
            "60\n",
            "74\n",
            "78\n",
            "6\n",
            "27\n",
            "23\n",
            "13\n",
            "10\n",
            "86\n"
          ]
        }
      ]
    },
    {
      "cell_type": "markdown",
      "source": [],
      "metadata": {
        "id": "MTRhSieoMyUs"
      }
    }
  ],
  "metadata": {
    "colab": {
      "provenance": [],
      "authorship_tag": "ABX9TyN1FKpr9FKjFuUsH6dKwi6g",
      "include_colab_link": true
    },
    "kernelspec": {
      "display_name": "Python 3",
      "name": "python3"
    },
    "language_info": {
      "name": "python"
    }
  },
  "nbformat": 4,
  "nbformat_minor": 0
}