{
  "nbformat": 4,
  "nbformat_minor": 0,
  "metadata": {
    "colab": {
      "provenance": [],
      "include_colab_link": true
    },
    "kernelspec": {
      "name": "python3",
      "display_name": "Python 3"
    },
    "language_info": {
      "name": "python"
    }
  },
  "cells": [
    {
      "cell_type": "markdown",
      "metadata": {
        "id": "view-in-github",
        "colab_type": "text"
      },
      "source": [
        "<a href=\"https://colab.research.google.com/github/TasmeerJamali/AgenticAI_and_Complete_Initial_Python-Codes/blob/main/Copy_of_OPENAI_SDK_OPENROUTER1.ipynb\" target=\"_parent\"><img src=\"https://colab.research.google.com/assets/colab-badge.svg\" alt=\"Open In Colab\"/></a>"
      ]
    },
    {
      "cell_type": "markdown",
      "source": [
        "# Use OpenRouter With OpenAI Agents SDK"
      ],
      "metadata": {
        "id": "o92NPvIPpmCv"
      }
    },
    {
      "cell_type": "markdown",
      "source": [
        "Setup Prerequisite:\n",
        "\n",
        "1. [Signup at OpenRouter](https://openrouter.ai/)\n",
        "2. [Create an API Key](https://openrouter.ai/settings/keys)\n",
        "2. Select a Free Model (you can continue as we are using a free model here)"
      ],
      "metadata": {
        "id": "l5oT3E8gqY_O"
      }
    },
    {
      "cell_type": "markdown",
      "source": [
        "## Free and Paid Models"
      ],
      "metadata": {
        "id": "-Zh5JPz1qLbD"
      }
    },
    {
      "cell_type": "markdown",
      "source": [
        "The OpenRouter supports the latest DeepSeek V3 0324 and 50+ other models for free. Most of them support the defacto standard: OpenAI Chat Completion API.\n",
        "\n",
        "\n",
        "If you are using a free model variant (with an ID ending in :free), then you will be limited to 20 requests per minute and 200 requests per day.\n",
        "\n",
        "**See all Models List: https://openrouter.ai/models**\n",
        "\n",
        "Note: OpenRouter do not charge anything extra at inference time."
      ],
      "metadata": {
        "id": "3NksiafzqSg7"
      }
    },
    {
      "cell_type": "markdown",
      "source": [
        "## Rate Limiting and Crediting"
      ],
      "metadata": {
        "id": "Krf3ozmkpsVs"
      }
    },
    {
      "cell_type": "markdown",
      "source": [
        "There are a few rate limits that apply to certain types of requests, regardless of account status:\n",
        "\n",
        "- Free limit: If you are using a free model variant (with an ID ending in :free), then you will be limited to 20 requests per minute and 200 requests per day.\n",
        "\n",
        "If your account has a negative credit balance, you may see 402 errors, including for free models. Adding credits to put your balance above zero allows you to use those models again.\n",
        "\n",
        "[Reference](https://openrouter.ai/docs/api-reference/limits)"
      ],
      "metadata": {
        "id": "WhcFykdIqKI4"
      }
    },
    {
      "cell_type": "markdown",
      "source": [
        "## Install OpenAI Agents Dep."
      ],
      "metadata": {
        "id": "GqX_s5idrryf"
      }
    },
    {
      "cell_type": "code",
      "execution_count": null,
      "metadata": {
        "id": "7teAe2rONlBe",
        "colab": {
          "base_uri": "https://localhost:8080/"
        },
        "outputId": "6ac93383-a02a-4406-feb7-c1f0ce96baa7"
      },
      "outputs": [
        {
          "output_type": "stream",
          "name": "stdout",
          "text": [
            "\u001b[?25l   \u001b[90m━━━━━━━━━━━━━━━━━━━━━━━━━━━━━━━━━━━━━━━━\u001b[0m \u001b[32m0.0/108.3 kB\u001b[0m \u001b[31m?\u001b[0m eta \u001b[36m-:--:--\u001b[0m\r\u001b[2K   \u001b[90m━━━━━━━━━━━━━━━━━━━━━━━━━━━━━━━━━━━━━━━━\u001b[0m \u001b[32m108.3/108.3 kB\u001b[0m \u001b[31m4.4 MB/s\u001b[0m eta \u001b[36m0:00:00\u001b[0m\n",
            "\u001b[?25h\u001b[?25l   \u001b[90m━━━━━━━━━━━━━━━━━━━━━━━━━━━━━━━━━━━━━━━━\u001b[0m \u001b[32m0.0/129.2 kB\u001b[0m \u001b[31m?\u001b[0m eta \u001b[36m-:--:--\u001b[0m\r\u001b[2K   \u001b[90m━━━━━━━━━━━━━━━━━━━━━━━━━━━━━━━━━━━━━━━━\u001b[0m \u001b[32m129.2/129.2 kB\u001b[0m \u001b[31m9.4 MB/s\u001b[0m eta \u001b[36m0:00:00\u001b[0m\n",
            "\u001b[2K   \u001b[90m━━━━━━━━━━━━━━━━━━━━━━━━━━━━━━━━━━━━━━━━\u001b[0m \u001b[32m76.1/76.1 kB\u001b[0m \u001b[31m4.9 MB/s\u001b[0m eta \u001b[36m0:00:00\u001b[0m\n",
            "\u001b[2K   \u001b[90m━━━━━━━━━━━━━━━━━━━━━━━━━━━━━━━━━━━━━━━━\u001b[0m \u001b[32m44.4/44.4 kB\u001b[0m \u001b[31m2.7 MB/s\u001b[0m eta \u001b[36m0:00:00\u001b[0m\n",
            "\u001b[2K   \u001b[90m━━━━━━━━━━━━━━━━━━━━━━━━━━━━━━━━━━━━━━━━\u001b[0m \u001b[32m72.0/72.0 kB\u001b[0m \u001b[31m4.4 MB/s\u001b[0m eta \u001b[36m0:00:00\u001b[0m\n",
            "\u001b[2K   \u001b[90m━━━━━━━━━━━━━━━━━━━━━━━━━━━━━━━━━━━━━━━━\u001b[0m \u001b[32m62.5/62.5 kB\u001b[0m \u001b[31m4.0 MB/s\u001b[0m eta \u001b[36m0:00:00\u001b[0m\n",
            "\u001b[?25h"
          ]
        }
      ],
      "source": [
        "!pip install -Uq openai-agents"
      ]
    },
    {
      "cell_type": "code",
      "source": [
        "import nest_asyncio\n",
        "nest_asyncio.apply()"
      ],
      "metadata": {
        "id": "z3_PWpn4OIyT"
      },
      "execution_count": null,
      "outputs": []
    },
    {
      "cell_type": "markdown",
      "source": [
        "## Provider Config"
      ],
      "metadata": {
        "id": "ZTOibVJuN_pi"
      }
    },
    {
      "cell_type": "code",
      "source": [
        "from google.colab import userdata\n",
        "\n",
        "OPENROUTER_API_KEY = userdata.get(\"OPENROUTER_API_KEY\")"
      ],
      "metadata": {
        "id": "zvmgohqY0-Wm"
      },
      "execution_count": null,
      "outputs": []
    },
    {
      "cell_type": "code",
      "source": [
        "#Reference: https://openrouter.ai/docs/quickstart\n",
        "\n",
        "BASE_URL = \"https://openrouter.ai/api/v1\"\n",
        "MODEL = \"mistralai/mistral-small-24b-instruct-2501:free\"\n",
        "\n",
        "# Some other free models on 26th March:\n",
        "# https://openrouter.ai/deepseek/deepseek-chat-v3-0324:free\n",
        "# https://openrouter.ai/google/gemini-2.5-pro-exp-03-25:free"
      ],
      "metadata": {
        "id": "DeTqCZKGlVk_"
      },
      "execution_count": null,
      "outputs": []
    },
    {
      "cell_type": "markdown",
      "source": [
        "## 1. Using the OpenRouter API directly"
      ],
      "metadata": {
        "id": "IyWF4XNPtI7f"
      }
    },
    {
      "cell_type": "code",
      "source": [
        "BASE_URL"
      ],
      "metadata": {
        "colab": {
          "base_uri": "https://localhost:8080/",
          "height": 36
        },
        "id": "GDt4_3lCuS4E",
        "outputId": "7907ba90-cd42-45dc-c0be-1a7ad87f9e4a"
      },
      "execution_count": null,
      "outputs": [
        {
          "output_type": "execute_result",
          "data": {
            "text/plain": [
              "'https://openrouter.ai/api/v1'"
            ],
            "application/vnd.google.colaboratory.intrinsic+json": {
              "type": "string"
            }
          },
          "metadata": {},
          "execution_count": 5
        }
      ]
    },
    {
      "cell_type": "code",
      "source": [
        "import requests\n",
        "import json\n",
        "\n",
        "response = requests.post(\n",
        "  url=f\"https://openrouter.ai/api/v1/chat/completions\",\n",
        "  headers={\n",
        "    \"Authorization\": f\"Bearer {OPENROUTER_API_KEY}\",\n",
        "  },\n",
        "  data=json.dumps({\n",
        "    \"model\": MODEL,\n",
        "    \"messages\": [\n",
        "      {\n",
        "        \"role\": \"user\",\n",
        "        \"content\": \"Hi, i have 1000 pkr i want you to convert into usd\"\n",
        "      }\n",
        "    ]\n",
        "  })\n",
        ")\n",
        "\n",
        "print(response.json())"
      ],
      "metadata": {
        "colab": {
          "base_uri": "https://localhost:8080/"
        },
        "id": "e0if6eGutM9h",
        "outputId": "03034185-3550-4a65-d281-9a742fc0c730"
      },
      "execution_count": null,
      "outputs": [
        {
          "output_type": "stream",
          "name": "stdout",
          "text": [
            "{'id': 'gen-1745143163-DRxNgsat72SUUpmYe7Lq', 'provider': 'Chutes', 'model': 'mistralai/mistral-small-24b-instruct-2501', 'object': 'chat.completion', 'created': 1745143163, 'choices': [{'logprobs': None, 'finish_reason': 'stop', 'native_finish_reason': 'stop', 'index': 0, 'message': {'role': 'assistant', 'content': 'To convert Pakistani Rupees (PKR) to US Dollars (USD), we need the current exchange rate. As of my last update in October 2023, I don\\'t have real-time data, but I can guide you on how to find the current exchange rate.\\n\\n1. **Check a Financial Website**: Visit a reliable financial website like XE.com, OANDA, or a similar service.\\n2. **Use a Currency Conversion App**: There are many apps available for both iOS and Android that provide real-time exchange rates.\\n3. **Bank or Financial Institution**: Your bank or a financial institution can provide the current exchange rate.\\n4. **Google**: Simply search \"1000 PKR to USD\" on Google, and it will show the current exchange rate.\\n\\nOnce you have the current exchange rate, you can calculate the conversion as follows:\\n\\\\[ \\\\text{Amount in USD} = \\\\text{Amount in PKR} \\\\times \\\\text{Exchange Rate} \\\\]\\n\\nPlease provide the current exchange rate if you know it, and I can do the calculation for you.', 'refusal': None, 'reasoning': None}}], 'usage': {'prompt_tokens': 196, 'completion_tokens': 226, 'total_tokens': 422}}\n"
          ]
        }
      ]
    },
    {
      "cell_type": "code",
      "source": [
        "data = response.json()\n",
        "data['choices'][0]['message']['content']"
      ],
      "metadata": {
        "colab": {
          "base_uri": "https://localhost:8080/",
          "height": 192
        },
        "id": "mv3B6_oRto5S",
        "outputId": "653fddfd-8ee6-4aec-9202-24cc3896b5d2"
      },
      "execution_count": null,
      "outputs": [
        {
          "output_type": "execute_result",
          "data": {
            "text/plain": [
              "'To convert Pakistani Rupees (PKR) to US Dollars (USD), we need the current exchange rate. As of my last update in October 2023, I don\\'t have real-time data, but I can guide you on how to find the current exchange rate.\\n\\n1. **Check a Financial Website**: Visit a reliable financial website like XE.com, OANDA, or a similar service.\\n2. **Use a Currency Conversion App**: There are many apps available for both iOS and Android that provide real-time exchange rates.\\n3. **Bank or Financial Institution**: Your bank or a financial institution can provide the current exchange rate.\\n4. **Google**: Simply search \"1000 PKR to USD\" on Google, and it will show the current exchange rate.\\n\\nOnce you have the current exchange rate, you can calculate the conversion as follows:\\n\\\\[ \\\\text{Amount in USD} = \\\\text{Amount in PKR} \\\\times \\\\text{Exchange Rate} \\\\]\\n\\nPlease provide the current exchange rate if you know it, and I can do the calculation for you.'"
            ],
            "application/vnd.google.colaboratory.intrinsic+json": {
              "type": "string"
            }
          },
          "metadata": {},
          "execution_count": 13
        }
      ]
    },
    {
      "cell_type": "markdown",
      "source": [
        "## 2. Using OpenAI Agents SDK"
      ],
      "metadata": {
        "id": "E_jESzWAsu91"
      }
    },
    {
      "cell_type": "code",
      "source": [
        "import asyncio\n",
        "from openai import AsyncOpenAI # chat completions\n",
        "from agents import Agent, OpenAIChatCompletionsModel, Runner, set_tracing_disabled\n",
        "\n",
        "set_tracing_disabled(disabled=True) # Open AI Tracing == Disable\n",
        "\n",
        "client = AsyncOpenAI(\n",
        "    api_key=OPENROUTER_API_KEY,\n",
        "    base_url=BASE_URL\n",
        ")\n",
        "\n",
        "\n",
        "async def main():\n",
        "    # This agent will use the custom LLM provider\n",
        "    agent = Agent(\n",
        "        name=\"LahoreTA\",\n",
        "        instructions=\"You only respond in english.\",\n",
        "        model=OpenAIChatCompletionsModel(model=MODEL, openai_client=client),\n",
        "    )\n",
        "\n",
        "    result = await Runner.run(\n",
        "        agent, # starting agent\n",
        "        \"What is your name?.\", # request\n",
        "    )\n",
        "    print(result.final_output)\n",
        "\n",
        "\n",
        "asyncio.run(main())"
      ],
      "metadata": {
        "colab": {
          "base_uri": "https://localhost:8080/"
        },
        "id": "xrJVAu7cwe5u",
        "outputId": "d2cbe866-fad0-4cbe-a7e5-d90bb0815a47"
      },
      "execution_count": null,
      "outputs": [
        {
          "output_type": "stream",
          "name": "stdout",
          "text": [
            "I don't have a name. I'm a text-based AI model and I don't have personal experiences, feelings, or a name. I'm here to provide information and answer questions to the best of my ability. You can give me a name if it helps you feel more comfortable talking to me, but I don't have a predetermined name.\n"
          ]
        }
      ]
    },
    {
      "cell_type": "code",
      "source": [
        "response.json()"
      ],
      "metadata": {
        "id": "x3omnVOp0feN",
        "outputId": "da86c752-2db9-41e2-81df-b2bd890fc7ad",
        "colab": {
          "base_uri": "https://localhost:8080/"
        }
      },
      "execution_count": null,
      "outputs": [
        {
          "output_type": "execute_result",
          "data": {
            "text/plain": [
              "{'id': 'gen-1744911192-rye3MFpXN4v0nbdLeI5V',\n",
              " 'provider': 'DeepInfra',\n",
              " 'model': 'mistralai/mistral-7b-instruct',\n",
              " 'object': 'chat.completion',\n",
              " 'created': 1744911192,\n",
              " 'choices': [{'logprobs': None,\n",
              "   'finish_reason': 'stop',\n",
              "   'native_finish_reason': 'stop',\n",
              "   'index': 0,\n",
              "   'message': {'role': 'assistant',\n",
              "    'content': \" Hello! How can I help you today? I am here to answer any question you might have, or help with any information you need. Let's get started! What would you like to know? ♥️💕\",\n",
              "    'refusal': None,\n",
              "    'reasoning': None}}],\n",
              " 'usage': {'prompt_tokens': 8, 'completion_tokens': 45, 'total_tokens': 53}}"
            ]
          },
          "metadata": {},
          "execution_count": 17
        }
      ]
    }
  ]
}